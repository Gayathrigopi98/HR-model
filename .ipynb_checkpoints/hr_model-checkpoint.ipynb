{
 "cells": [
  {
   "cell_type": "code",
   "execution_count": 1,
   "id": "b521d933",
   "metadata": {},
   "outputs": [],
   "source": [
    "import pandas as pd\n",
    "import numpy as np\n",
    "\n",
    "import seaborn as sns\n",
    "import matplotlib.pyplot as plt\n",
    "import warnings\n",
    "warnings.filterwarnings('ignore')"
   ]
  },
  {
   "cell_type": "code",
   "execution_count": 2,
   "id": "5e3e7fb8",
   "metadata": {},
   "outputs": [
    {
     "ename": "FileNotFoundError",
     "evalue": "[Errno 2] No such file or directory: 'G:\\\\datasets\\\\hack2-hr\\\\train.csv'",
     "output_type": "error",
     "traceback": [
      "\u001b[1;31m---------------------------------------------------------------------------\u001b[0m",
      "\u001b[1;31mFileNotFoundError\u001b[0m                         Traceback (most recent call last)",
      "Cell \u001b[1;32mIn[2], line 1\u001b[0m\n\u001b[1;32m----> 1\u001b[0m train\u001b[38;5;241m=\u001b[39mpd\u001b[38;5;241m.\u001b[39mread_csv(\u001b[38;5;124mr\u001b[39m\u001b[38;5;124m\"\u001b[39m\u001b[38;5;124mG:\u001b[39m\u001b[38;5;124m\\\u001b[39m\u001b[38;5;124mdatasets\u001b[39m\u001b[38;5;124m\\\u001b[39m\u001b[38;5;124mhack2-hr\u001b[39m\u001b[38;5;124m\\\u001b[39m\u001b[38;5;124mtrain.csv\u001b[39m\u001b[38;5;124m\"\u001b[39m)\n\u001b[0;32m      2\u001b[0m test\u001b[38;5;241m=\u001b[39mpd\u001b[38;5;241m.\u001b[39mread_csv(\u001b[38;5;124mr\u001b[39m\u001b[38;5;124m\"\u001b[39m\u001b[38;5;124mG:\u001b[39m\u001b[38;5;124m\\\u001b[39m\u001b[38;5;124mdatasets\u001b[39m\u001b[38;5;124m\\\u001b[39m\u001b[38;5;124mhack2-hr\u001b[39m\u001b[38;5;124m\\\u001b[39m\u001b[38;5;124mtest.csv\u001b[39m\u001b[38;5;124m\"\u001b[39m)\n",
      "File \u001b[1;32m~\\anaconda3\\Lib\\site-packages\\pandas\\io\\parsers\\readers.py:1026\u001b[0m, in \u001b[0;36mread_csv\u001b[1;34m(filepath_or_buffer, sep, delimiter, header, names, index_col, usecols, dtype, engine, converters, true_values, false_values, skipinitialspace, skiprows, skipfooter, nrows, na_values, keep_default_na, na_filter, verbose, skip_blank_lines, parse_dates, infer_datetime_format, keep_date_col, date_parser, date_format, dayfirst, cache_dates, iterator, chunksize, compression, thousands, decimal, lineterminator, quotechar, quoting, doublequote, escapechar, comment, encoding, encoding_errors, dialect, on_bad_lines, delim_whitespace, low_memory, memory_map, float_precision, storage_options, dtype_backend)\u001b[0m\n\u001b[0;32m   1013\u001b[0m kwds_defaults \u001b[38;5;241m=\u001b[39m _refine_defaults_read(\n\u001b[0;32m   1014\u001b[0m     dialect,\n\u001b[0;32m   1015\u001b[0m     delimiter,\n\u001b[1;32m   (...)\u001b[0m\n\u001b[0;32m   1022\u001b[0m     dtype_backend\u001b[38;5;241m=\u001b[39mdtype_backend,\n\u001b[0;32m   1023\u001b[0m )\n\u001b[0;32m   1024\u001b[0m kwds\u001b[38;5;241m.\u001b[39mupdate(kwds_defaults)\n\u001b[1;32m-> 1026\u001b[0m \u001b[38;5;28;01mreturn\u001b[39;00m _read(filepath_or_buffer, kwds)\n",
      "File \u001b[1;32m~\\anaconda3\\Lib\\site-packages\\pandas\\io\\parsers\\readers.py:620\u001b[0m, in \u001b[0;36m_read\u001b[1;34m(filepath_or_buffer, kwds)\u001b[0m\n\u001b[0;32m    617\u001b[0m _validate_names(kwds\u001b[38;5;241m.\u001b[39mget(\u001b[38;5;124m\"\u001b[39m\u001b[38;5;124mnames\u001b[39m\u001b[38;5;124m\"\u001b[39m, \u001b[38;5;28;01mNone\u001b[39;00m))\n\u001b[0;32m    619\u001b[0m \u001b[38;5;66;03m# Create the parser.\u001b[39;00m\n\u001b[1;32m--> 620\u001b[0m parser \u001b[38;5;241m=\u001b[39m TextFileReader(filepath_or_buffer, \u001b[38;5;241m*\u001b[39m\u001b[38;5;241m*\u001b[39mkwds)\n\u001b[0;32m    622\u001b[0m \u001b[38;5;28;01mif\u001b[39;00m chunksize \u001b[38;5;129;01mor\u001b[39;00m iterator:\n\u001b[0;32m    623\u001b[0m     \u001b[38;5;28;01mreturn\u001b[39;00m parser\n",
      "File \u001b[1;32m~\\anaconda3\\Lib\\site-packages\\pandas\\io\\parsers\\readers.py:1620\u001b[0m, in \u001b[0;36mTextFileReader.__init__\u001b[1;34m(self, f, engine, **kwds)\u001b[0m\n\u001b[0;32m   1617\u001b[0m     \u001b[38;5;28mself\u001b[39m\u001b[38;5;241m.\u001b[39moptions[\u001b[38;5;124m\"\u001b[39m\u001b[38;5;124mhas_index_names\u001b[39m\u001b[38;5;124m\"\u001b[39m] \u001b[38;5;241m=\u001b[39m kwds[\u001b[38;5;124m\"\u001b[39m\u001b[38;5;124mhas_index_names\u001b[39m\u001b[38;5;124m\"\u001b[39m]\n\u001b[0;32m   1619\u001b[0m \u001b[38;5;28mself\u001b[39m\u001b[38;5;241m.\u001b[39mhandles: IOHandles \u001b[38;5;241m|\u001b[39m \u001b[38;5;28;01mNone\u001b[39;00m \u001b[38;5;241m=\u001b[39m \u001b[38;5;28;01mNone\u001b[39;00m\n\u001b[1;32m-> 1620\u001b[0m \u001b[38;5;28mself\u001b[39m\u001b[38;5;241m.\u001b[39m_engine \u001b[38;5;241m=\u001b[39m \u001b[38;5;28mself\u001b[39m\u001b[38;5;241m.\u001b[39m_make_engine(f, \u001b[38;5;28mself\u001b[39m\u001b[38;5;241m.\u001b[39mengine)\n",
      "File \u001b[1;32m~\\anaconda3\\Lib\\site-packages\\pandas\\io\\parsers\\readers.py:1880\u001b[0m, in \u001b[0;36mTextFileReader._make_engine\u001b[1;34m(self, f, engine)\u001b[0m\n\u001b[0;32m   1878\u001b[0m     \u001b[38;5;28;01mif\u001b[39;00m \u001b[38;5;124m\"\u001b[39m\u001b[38;5;124mb\u001b[39m\u001b[38;5;124m\"\u001b[39m \u001b[38;5;129;01mnot\u001b[39;00m \u001b[38;5;129;01min\u001b[39;00m mode:\n\u001b[0;32m   1879\u001b[0m         mode \u001b[38;5;241m+\u001b[39m\u001b[38;5;241m=\u001b[39m \u001b[38;5;124m\"\u001b[39m\u001b[38;5;124mb\u001b[39m\u001b[38;5;124m\"\u001b[39m\n\u001b[1;32m-> 1880\u001b[0m \u001b[38;5;28mself\u001b[39m\u001b[38;5;241m.\u001b[39mhandles \u001b[38;5;241m=\u001b[39m get_handle(\n\u001b[0;32m   1881\u001b[0m     f,\n\u001b[0;32m   1882\u001b[0m     mode,\n\u001b[0;32m   1883\u001b[0m     encoding\u001b[38;5;241m=\u001b[39m\u001b[38;5;28mself\u001b[39m\u001b[38;5;241m.\u001b[39moptions\u001b[38;5;241m.\u001b[39mget(\u001b[38;5;124m\"\u001b[39m\u001b[38;5;124mencoding\u001b[39m\u001b[38;5;124m\"\u001b[39m, \u001b[38;5;28;01mNone\u001b[39;00m),\n\u001b[0;32m   1884\u001b[0m     compression\u001b[38;5;241m=\u001b[39m\u001b[38;5;28mself\u001b[39m\u001b[38;5;241m.\u001b[39moptions\u001b[38;5;241m.\u001b[39mget(\u001b[38;5;124m\"\u001b[39m\u001b[38;5;124mcompression\u001b[39m\u001b[38;5;124m\"\u001b[39m, \u001b[38;5;28;01mNone\u001b[39;00m),\n\u001b[0;32m   1885\u001b[0m     memory_map\u001b[38;5;241m=\u001b[39m\u001b[38;5;28mself\u001b[39m\u001b[38;5;241m.\u001b[39moptions\u001b[38;5;241m.\u001b[39mget(\u001b[38;5;124m\"\u001b[39m\u001b[38;5;124mmemory_map\u001b[39m\u001b[38;5;124m\"\u001b[39m, \u001b[38;5;28;01mFalse\u001b[39;00m),\n\u001b[0;32m   1886\u001b[0m     is_text\u001b[38;5;241m=\u001b[39mis_text,\n\u001b[0;32m   1887\u001b[0m     errors\u001b[38;5;241m=\u001b[39m\u001b[38;5;28mself\u001b[39m\u001b[38;5;241m.\u001b[39moptions\u001b[38;5;241m.\u001b[39mget(\u001b[38;5;124m\"\u001b[39m\u001b[38;5;124mencoding_errors\u001b[39m\u001b[38;5;124m\"\u001b[39m, \u001b[38;5;124m\"\u001b[39m\u001b[38;5;124mstrict\u001b[39m\u001b[38;5;124m\"\u001b[39m),\n\u001b[0;32m   1888\u001b[0m     storage_options\u001b[38;5;241m=\u001b[39m\u001b[38;5;28mself\u001b[39m\u001b[38;5;241m.\u001b[39moptions\u001b[38;5;241m.\u001b[39mget(\u001b[38;5;124m\"\u001b[39m\u001b[38;5;124mstorage_options\u001b[39m\u001b[38;5;124m\"\u001b[39m, \u001b[38;5;28;01mNone\u001b[39;00m),\n\u001b[0;32m   1889\u001b[0m )\n\u001b[0;32m   1890\u001b[0m \u001b[38;5;28;01massert\u001b[39;00m \u001b[38;5;28mself\u001b[39m\u001b[38;5;241m.\u001b[39mhandles \u001b[38;5;129;01mis\u001b[39;00m \u001b[38;5;129;01mnot\u001b[39;00m \u001b[38;5;28;01mNone\u001b[39;00m\n\u001b[0;32m   1891\u001b[0m f \u001b[38;5;241m=\u001b[39m \u001b[38;5;28mself\u001b[39m\u001b[38;5;241m.\u001b[39mhandles\u001b[38;5;241m.\u001b[39mhandle\n",
      "File \u001b[1;32m~\\anaconda3\\Lib\\site-packages\\pandas\\io\\common.py:873\u001b[0m, in \u001b[0;36mget_handle\u001b[1;34m(path_or_buf, mode, encoding, compression, memory_map, is_text, errors, storage_options)\u001b[0m\n\u001b[0;32m    868\u001b[0m \u001b[38;5;28;01melif\u001b[39;00m \u001b[38;5;28misinstance\u001b[39m(handle, \u001b[38;5;28mstr\u001b[39m):\n\u001b[0;32m    869\u001b[0m     \u001b[38;5;66;03m# Check whether the filename is to be opened in binary mode.\u001b[39;00m\n\u001b[0;32m    870\u001b[0m     \u001b[38;5;66;03m# Binary mode does not support 'encoding' and 'newline'.\u001b[39;00m\n\u001b[0;32m    871\u001b[0m     \u001b[38;5;28;01mif\u001b[39;00m ioargs\u001b[38;5;241m.\u001b[39mencoding \u001b[38;5;129;01mand\u001b[39;00m \u001b[38;5;124m\"\u001b[39m\u001b[38;5;124mb\u001b[39m\u001b[38;5;124m\"\u001b[39m \u001b[38;5;129;01mnot\u001b[39;00m \u001b[38;5;129;01min\u001b[39;00m ioargs\u001b[38;5;241m.\u001b[39mmode:\n\u001b[0;32m    872\u001b[0m         \u001b[38;5;66;03m# Encoding\u001b[39;00m\n\u001b[1;32m--> 873\u001b[0m         handle \u001b[38;5;241m=\u001b[39m \u001b[38;5;28mopen\u001b[39m(\n\u001b[0;32m    874\u001b[0m             handle,\n\u001b[0;32m    875\u001b[0m             ioargs\u001b[38;5;241m.\u001b[39mmode,\n\u001b[0;32m    876\u001b[0m             encoding\u001b[38;5;241m=\u001b[39mioargs\u001b[38;5;241m.\u001b[39mencoding,\n\u001b[0;32m    877\u001b[0m             errors\u001b[38;5;241m=\u001b[39merrors,\n\u001b[0;32m    878\u001b[0m             newline\u001b[38;5;241m=\u001b[39m\u001b[38;5;124m\"\u001b[39m\u001b[38;5;124m\"\u001b[39m,\n\u001b[0;32m    879\u001b[0m         )\n\u001b[0;32m    880\u001b[0m     \u001b[38;5;28;01melse\u001b[39;00m:\n\u001b[0;32m    881\u001b[0m         \u001b[38;5;66;03m# Binary mode\u001b[39;00m\n\u001b[0;32m    882\u001b[0m         handle \u001b[38;5;241m=\u001b[39m \u001b[38;5;28mopen\u001b[39m(handle, ioargs\u001b[38;5;241m.\u001b[39mmode)\n",
      "\u001b[1;31mFileNotFoundError\u001b[0m: [Errno 2] No such file or directory: 'G:\\\\datasets\\\\hack2-hr\\\\train.csv'"
     ]
    }
   ],
   "source": [
    "train=pd.read_csv(r\"C:\\Users\\infan\\OneDrive\\Desktop\\Gayathri\\dataset\\hack2-hr\\train.csv\")\n",
    "test=pd.read_csv(r\"C:\\Users\\infan\\OneDrive\\Desktop\\Gayathri\\dataset\\hack2-hr\\test.csv\")"
   ]
  },
  {
   "cell_type": "code",
   "execution_count": null,
   "id": "b16fe95d",
   "metadata": {},
   "outputs": [],
   "source": [
    "train.shape,test.shape"
   ]
  },
  {
   "cell_type": "code",
   "execution_count": null,
   "id": "573e0310",
   "metadata": {},
   "outputs": [],
   "source": [
    " train.info()"
   ]
  },
  {
   "cell_type": "code",
   "execution_count": null,
   "id": "fb03eef5",
   "metadata": {},
   "outputs": [],
   "source": [
    "train.head(2)"
   ]
  },
  {
   "cell_type": "code",
   "execution_count": null,
   "id": "d991142c",
   "metadata": {},
   "outputs": [],
   "source": [
    "train.isna().sum()"
   ]
  },
  {
   "cell_type": "code",
   "execution_count": null,
   "id": "6e1bc830",
   "metadata": {},
   "outputs": [],
   "source": [
    "(train.isna().sum()/train.shape[0]*100).sort_values()"
   ]
  },
  {
   "cell_type": "code",
   "execution_count": null,
   "id": "5b540b36",
   "metadata": {},
   "outputs": [],
   "source": [
    "train.duplicated().sum()"
   ]
  },
  {
   "cell_type": "code",
   "execution_count": null,
   "id": "7aea7944",
   "metadata": {},
   "outputs": [],
   "source": [
    "train.target.value_counts()"
   ]
  },
  {
   "cell_type": "code",
   "execution_count": null,
   "id": "a06c4208",
   "metadata": {},
   "outputs": [],
   "source": [
    "train.target.value_counts(normalize=True)*100"
   ]
  },
  {
   "cell_type": "code",
   "execution_count": null,
   "id": "60217249",
   "metadata": {},
   "outputs": [],
   "source": [
    "train.target.value_counts().plot(kind ='bar')"
   ]
  },
  {
   "cell_type": "code",
   "execution_count": null,
   "id": "c60e058e",
   "metadata": {},
   "outputs": [],
   "source": [
    "tgt_col =['target']\n",
    "ing_col =['enrollee_id']"
   ]
  },
  {
   "cell_type": "code",
   "execution_count": null,
   "id": "7b435256",
   "metadata": {},
   "outputs": [],
   "source": [
    "train.drop(columns=ing_col).describe().T"
   ]
  },
  {
   "cell_type": "code",
   "execution_count": null,
   "id": "dcdb64ec",
   "metadata": {},
   "outputs": [],
   "source": [
    "train.describe(include='object').T"
   ]
  },
  {
   "cell_type": "code",
   "execution_count": null,
   "id": "fdb14c21",
   "metadata": {},
   "outputs": [],
   "source": [
    "train.nunique()"
   ]
  },
  {
   "cell_type": "code",
   "execution_count": null,
   "id": "c1a896d7",
   "metadata": {},
   "outputs": [],
   "source": [
    "for col in train.drop(columns=ing_col).columns:\n",
    "    print(col,train[col].nunique(), \"=======\", train[col].unique())"
   ]
  },
  {
   "cell_type": "code",
   "execution_count": null,
   "id": "52cf010f",
   "metadata": {},
   "outputs": [],
   "source": [
    "sns.distplot(train.training_hours)"
   ]
  },
  {
   "cell_type": "code",
   "execution_count": null,
   "id": "039dbc31",
   "metadata": {},
   "outputs": [],
   "source": [
    "sns.distplot(train.city_development_index)"
   ]
  },
  {
   "cell_type": "code",
   "execution_count": null,
   "id": "dbce8347",
   "metadata": {},
   "outputs": [],
   "source": [
    "for col in train.select_dtypes(include='object').columns:\n",
    "    sns.countplot(y=train[col])\n",
    "    plt.show()"
   ]
  },
  {
   "cell_type": "code",
   "execution_count": null,
   "id": "9127e7eb",
   "metadata": {},
   "outputs": [],
   "source": [
    "  "
   ]
  },
  {
   "cell_type": "code",
   "execution_count": null,
   "id": "c83c4c43",
   "metadata": {},
   "outputs": [],
   "source": [
    "exp_tar =train[['experience','target']].groupby('experience').value_counts().unstack()\n",
    "exp_tar['%']=exp_tar[1]/(exp_tar[0]+exp_tar[1])*100 \n",
    "exp_tar.sort_values(exp_tar.columns[2],ascending=False)"
   ]
  },
  {
   "cell_type": "code",
   "execution_count": null,
   "id": "edbb7b61",
   "metadata": {},
   "outputs": [],
   "source": [
    "from sklearn.pipeline import Pipeline\n",
    "from sklearn.impute import SimpleImputer\n",
    "from sklearn.preprocessing import OneHotEncoder,StandardScaler\n",
    "from sklearn.compose import ColumnTransformer\n",
    "\n",
    "from sklearn.linear_model import LogisticRegression\n",
    "from sklearn.model_selection import train_test_split,GridSearchCV\n",
    "from sklearn.metrics import confusion_matrix,classification_report,roc_auc_score,roc_curve,auc"
   ]
  },
  {
   "cell_type": "code",
   "execution_count": null,
   "id": "79fc994a",
   "metadata": {},
   "outputs": [],
   "source": [
    "train.dtypes"
   ]
  },
  {
   "cell_type": "code",
   "execution_count": null,
   "id": "d33162ab",
   "metadata": {},
   "outputs": [],
   "source": [
    "cat_cols=['city','gender','relevent_experience','enrolled_university',\n",
    "          'education_level','major_discipline','experience',\n",
    "          'company_size','company_type','last_new_job']\n",
    "\n",
    "num_cols=['city_development_index','training_hours']"
   ]
  },
  {
   "cell_type": "code",
   "execution_count": null,
   "id": "3ae27351",
   "metadata": {},
   "outputs": [],
   "source": [
    "cat_pipe_encode=Pipeline(\n",
    "steps=[\n",
    "    ('impute_Cat',SimpleImputer(strategy='most_frequent')),\n",
    "    ('ohe',OneHotEncoder(handle_unknown='ignore'))\n",
    "])"
   ]
  },
  {
   "cell_type": "code",
   "execution_count": null,
   "id": "7e61c4d4",
   "metadata": {},
   "outputs": [],
   "source": [
    "num_pipe_encode=Pipeline(\n",
    "steps=[\n",
    "    ('impute_Cat',SimpleImputer(strategy='median')),\n",
    "    ('scale',StandardScaler())\n",
    "])"
   ]
  },
  {
   "cell_type": "code",
   "execution_count": null,
   "id": "68a8c0d0",
   "metadata": {},
   "outputs": [],
   "source": [
    "preprocess=ColumnTransformer(\n",
    "    transformers=[\n",
    "        ('cat_encode',cat_pipe_encode,cat_cols),\n",
    "        ('num_encode',num_pipe_encode,num_cols)\n",
    "    ])"
   ]
  },
  {
   "cell_type": "code",
   "execution_count": null,
   "id": "63ae0a02",
   "metadata": {},
   "outputs": [],
   "source": [
    "model_pipeline=Pipeline(\n",
    "steps=[\n",
    "    ('preprocess',preprocess),\n",
    "    ('model',LogisticRegression())\n",
    "])"
   ]
  },
  {
   "cell_type": "code",
   "execution_count": null,
   "id": "94a477e0",
   "metadata": {},
   "outputs": [],
   "source": [
    "X = train.drop(columns=ing_col+tgt_col)\n",
    "X.head(2)"
   ]
  },
  {
   "cell_type": "code",
   "execution_count": null,
   "id": "dcd4fd7b",
   "metadata": {},
   "outputs": [],
   "source": [
    "y=train[tgt_col]\n",
    "y.head(2)"
   ]
  },
  {
   "cell_type": "code",
   "execution_count": null,
   "id": "b21fb0f7",
   "metadata": {},
   "outputs": [],
   "source": [
    "train_X,val_X,train_y,val_y=train_test_split(X,y,random_state=42,test_size=0.1)\n",
    "train_X.shape,val_X.shape,train_y.shape,val_y.shape"
   ]
  },
  {
   "cell_type": "code",
   "execution_count": null,
   "id": "b930d706",
   "metadata": {
    "scrolled": true
   },
   "outputs": [],
   "source": [
    "model_pipeline.fit(train_X,train_y)"
   ]
  },
  {
   "cell_type": "code",
   "execution_count": null,
   "id": "c163a790",
   "metadata": {},
   "outputs": [],
   "source": [
    "predicted_train_tgt=model_pipeline.predict(train_X)\n",
    "predicted_val_tgt=model_pipeline.predict(val_X)"
   ]
  },
  {
   "cell_type": "code",
   "execution_count": null,
   "id": "af49b418",
   "metadata": {},
   "outputs": [],
   "source": [
    "def model_train_val_eval(train_X,val_X,train_y,val_y,model_pipeline):\n",
    "    \n",
    "    predicted_train_tgt=model_pipeline.predict(train_X)\n",
    "    predicted_val_tgt=model_pipeline.predict(val_X)\n",
    "    \n",
    "    print(\"train auc\",roc_auc_score(train_y,predicted_train_tgt),sep='\\n')\n",
    "    print(\"test auc\",roc_auc_score(val_y,predicted_val_tgt),sep='\\n')\n",
    "    \n",
    "    print(\"train confusion matrix\",confusion_matrix(train_y,predicted_train_tgt),sep='\\n')\n",
    "    print(\"test confustion matrix\",confusion_matrix(val_y,predicted_val_tgt),sep='\\n')\n",
    "    \n",
    "    print(\"train class matrix\",classification_report(train_y,predicted_train_tgt),sep='\\n')\n",
    "    print(\"test class matrix\",classification_report(val_y,predicted_val_tgt),sep='\\n')\n",
    "    \n",
    "    y_pred_proba=model_pipeline.predict_proba(val_X)[:,1]\n",
    "    plt.figure()\n",
    "    fpr, tpr, thrshv= roc_curve(val_y,y_pred_proba)\n",
    "#     roc_auc=auc(fpr,tpr)\n",
    "    plt.plot(fpr,tpr)\n",
    "    plt.show()\n",
    "    \n",
    "    \n",
    "    \n",
    "    "
   ]
  },
  {
   "cell_type": "code",
   "execution_count": null,
   "id": "12aabbe6",
   "metadata": {},
   "outputs": [],
   "source": [
    "model_train_val_eval(train_X,val_X,train_y,val_y,model_pipeline)"
   ]
  },
  {
   "cell_type": "code",
   "execution_count": null,
   "id": "081ba7bf",
   "metadata": {},
   "outputs": [],
   "source": [
    "model_pipeline.predict_proba(val_X)"
   ]
  },
  {
   "cell_type": "code",
   "execution_count": null,
   "id": "243254fd",
   "metadata": {},
   "outputs": [],
   "source": [
    "model_pipeline.predict(val_X)"
   ]
  },
  {
   "cell_type": "code",
   "execution_count": null,
   "id": "402172a8",
   "metadata": {},
   "outputs": [],
   "source": [
    "model_pipeline.predict_proba(val_X)[:,1]"
   ]
  },
  {
   "cell_type": "code",
   "execution_count": null,
   "id": "6a1814d8",
   "metadata": {},
   "outputs": [],
   "source": [
    "param=[\n",
    "    {\n",
    "    'model': [LogisticRegression()],\n",
    "    'model__penalty':['l2',None] ,\n",
    "    'model__C':[0.5,3]   \n",
    "    }\n",
    "]"
   ]
  },
  {
   "cell_type": "code",
   "execution_count": null,
   "id": "355fc799",
   "metadata": {},
   "outputs": [],
   "source": [
    "grid= GridSearchCV(estimator=model_pipeline,param_grid=param,cv=2,scoring='roc_auc')"
   ]
  },
  {
   "cell_type": "code",
   "execution_count": null,
   "id": "48904dba",
   "metadata": {},
   "outputs": [],
   "source": [
    "grid.fit(train_X,train_y)"
   ]
  },
  {
   "cell_type": "code",
   "execution_count": null,
   "id": "20183f35",
   "metadata": {},
   "outputs": [],
   "source": [
    "grid.best_params_"
   ]
  },
  {
   "cell_type": "code",
   "execution_count": null,
   "id": "4a429163",
   "metadata": {},
   "outputs": [],
   "source": [
    "res_df = pd.DataFrame(grid.cv_results_)\n",
    "pd.set_option('display.max_colwidth',100)\n",
    "res_df[['params','mean_test_score','rank_test_score']]"
   ]
  },
  {
   "cell_type": "code",
   "execution_count": null,
   "id": "0ab87ae2",
   "metadata": {},
   "outputs": [],
   "source": [
    "sub = pd.read_csv(r\"G:\\datasets\\hack2-hr\\sample_submission.csv\")"
   ]
  },
  {
   "cell_type": "code",
   "execution_count": null,
   "id": "75cfbf10",
   "metadata": {},
   "outputs": [],
   "source": [
    "sub.head(3)"
   ]
  },
  {
   "cell_type": "code",
   "execution_count": null,
   "id": "4d4df5eb",
   "metadata": {},
   "outputs": [],
   "source": [
    "test.head(3)"
   ]
  },
  {
   "cell_type": "code",
   "execution_count": null,
   "id": "91cc7570",
   "metadata": {},
   "outputs": [],
   "source": [
    "train.columns.difference(test.columns)"
   ]
  },
  {
   "cell_type": "code",
   "execution_count": null,
   "id": "5143dcef",
   "metadata": {},
   "outputs": [],
   "source": [
    "sub['target'] = model_pipeline.predict(test)"
   ]
  },
  {
   "cell_type": "code",
   "execution_count": null,
   "id": "fd02c9e2",
   "metadata": {},
   "outputs": [],
   "source": [
    "sub.to_csv('sub_1.csv',index=False)"
   ]
  },
  {
   "cell_type": "code",
   "execution_count": null,
   "id": "1ef08ed3",
   "metadata": {},
   "outputs": [],
   "source": [
    "sub"
   ]
  },
  {
   "cell_type": "code",
   "execution_count": null,
   "id": "8817923e",
   "metadata": {},
   "outputs": [],
   "source": [
    "import joblib"
   ]
  },
  {
   "cell_type": "code",
   "execution_count": null,
   "id": "0c2d0015",
   "metadata": {},
   "outputs": [],
   "source": [
    "joblib.dump(model_pipeline,'jobchg_pipeline_model.pkl')"
   ]
  },
  {
   "cell_type": "code",
   "execution_count": null,
   "id": "400597d3",
   "metadata": {},
   "outputs": [],
   "source": [
    "from imblearn.over_sampling import RandomOverSampler"
   ]
  },
  {
   "cell_type": "code",
   "execution_count": null,
   "id": "9d0b92a3",
   "metadata": {},
   "outputs": [],
   "source": [
    "over_sampling=RandomOverSampler()"
   ]
  },
  {
   "cell_type": "code",
   "execution_count": null,
   "id": "a19944d7",
   "metadata": {},
   "outputs": [],
   "source": [
    "import imblearn\n",
    "imblearn.__version__"
   ]
  },
  {
   "cell_type": "code",
   "execution_count": null,
   "id": "b37cfcf7",
   "metadata": {},
   "outputs": [],
   "source": [
    "import sklearn\n",
    "sklearn.__version__"
   ]
  },
  {
   "cell_type": "code",
   "execution_count": null,
   "id": "8ad702c7",
   "metadata": {},
   "outputs": [],
   "source": []
  },
  {
   "cell_type": "code",
   "execution_count": null,
   "id": "94b322f0",
   "metadata": {},
   "outputs": [],
   "source": [
    "train_y.value_counts()"
   ]
  },
  {
   "cell_type": "code",
   "execution_count": null,
   "id": "2b263b9b",
   "metadata": {},
   "outputs": [],
   "source": [
    "train_X_os,train_y_os=over_sampling.fit_resample(train_X,train_y)"
   ]
  },
  {
   "cell_type": "code",
   "execution_count": null,
   "id": "108514e2",
   "metadata": {},
   "outputs": [],
   "source": [
    "train_y_os.value_counts()"
   ]
  },
  {
   "cell_type": "code",
   "execution_count": null,
   "id": "77872252",
   "metadata": {},
   "outputs": [],
   "source": [
    "from sklearn.tree import DecisionTreeClassifier"
   ]
  },
  {
   "cell_type": "code",
   "execution_count": null,
   "id": "f01e3d2a",
   "metadata": {},
   "outputs": [],
   "source": [
    "param_2=[\n",
    "    {\n",
    "    'model': [LogisticRegression()],\n",
    "    'model__penalty':['l2',None] ,\n",
    "    'model__C':[0.5,3] \n",
    "    },\n",
    "    {\n",
    "    'model': [DecisionTreeClassifier()],\n",
    "    'model__max_depth':[3,5] ,\n",
    "    }\n",
    "]\n",
    "\n"
   ]
  },
  {
   "cell_type": "code",
   "execution_count": null,
   "id": "87947be2",
   "metadata": {},
   "outputs": [],
   "source": [
    "grid_2= GridSearchCV(estimator=model_pipeline,param_grid=param_2,cv=2,scoring='roc_auc')"
   ]
  },
  {
   "cell_type": "code",
   "execution_count": null,
   "id": "2acd36d5",
   "metadata": {},
   "outputs": [],
   "source": [
    "grid_2.fit(train_X_os,train_y_os)"
   ]
  },
  {
   "cell_type": "code",
   "execution_count": null,
   "id": "956b1f1d",
   "metadata": {},
   "outputs": [],
   "source": [
    "grid_2.best_params_"
   ]
  },
  {
   "cell_type": "code",
   "execution_count": null,
   "id": "12789f60",
   "metadata": {},
   "outputs": [],
   "source": [
    "grid_2.best_estimator_"
   ]
  },
  {
   "cell_type": "code",
   "execution_count": null,
   "id": "452fff56",
   "metadata": {},
   "outputs": [],
   "source": [
    "new_model=grid_2.best_estimator_"
   ]
  },
  {
   "cell_type": "code",
   "execution_count": null,
   "id": "96248855",
   "metadata": {},
   "outputs": [],
   "source": [
    "res_df = pd.DataFrame(grid_2.cv_results_)\n",
    "pd.set_option('display.max_colwidth',100)\n",
    "res_df[['params','mean_test_score','rank_test_score']]"
   ]
  },
  {
   "cell_type": "code",
   "execution_count": null,
   "id": "a47df1c3",
   "metadata": {},
   "outputs": [],
   "source": [
    "model_train_val_eval(train_X,val_X,train_y,val_y,new_model)"
   ]
  },
  {
   "cell_type": "code",
   "execution_count": null,
   "id": "edbbb4e2",
   "metadata": {},
   "outputs": [],
   "source": [
    "model_train_val_eval(train_X_os,val_X,train_y_os,val_y,new_model)"
   ]
  },
  {
   "cell_type": "code",
   "execution_count": null,
   "id": "9bf3a749",
   "metadata": {},
   "outputs": [],
   "source": [
    "sub['target'] = new_model.predict(test)\n",
    "sub.to_csv('sub_2.csv',index=False)"
   ]
  },
  {
   "cell_type": "code",
   "execution_count": null,
   "id": "e625dffd",
   "metadata": {},
   "outputs": [],
   "source": [
    "from sklearn.ensemble import RandomForestClassifier,GradientBoostingClassifier,AdaBoostClassifier,StackingClassifier"
   ]
  },
  {
   "cell_type": "code",
   "execution_count": null,
   "id": "e3bba147",
   "metadata": {},
   "outputs": [],
   "source": [
    "param_3=[\n",
    "    {\n",
    "    'model': [LogisticRegression()],\n",
    "    'model__penalty':['l2',None] ,\n",
    "    'model__C':[0.5,3] \n",
    "    },\n",
    "    {\n",
    "    'model': [DecisionTreeClassifier()],\n",
    "    'model__max_depth':[3,5] ,\n",
    "    },\n",
    "    {\n",
    "    'model': [StackingClassifier(\n",
    "    estimators=[\n",
    "        ['sclf1',RandomForestClassifier()],\n",
    "        ['sclf2',GradientBoostingClassifier()],\n",
    "        ['sclf3',AdaBoostClassifier()],],\n",
    "        final_estimator=LogisticRegression()\n",
    "    )],\n",
    "    'model__sclf1__max_depth':[4,8] ,\n",
    "    'model__sclf2__n_estimators':[15,25],  \n",
    "    'model__sclf3__n_estimators':[3,6],\n",
    "    },    \n",
    "]\n"
   ]
  },
  {
   "cell_type": "code",
   "execution_count": null,
   "id": "6a72c5f4",
   "metadata": {},
   "outputs": [],
   "source": [
    "grid_3 = GridSearchCV(estimator=model_pipeline,param_grid=param_3,cv=2,scoring='roc_auc')"
   ]
  },
  {
   "cell_type": "code",
   "execution_count": null,
   "id": "5932b187",
   "metadata": {},
   "outputs": [],
   "source": [
    "grid_3.fit(train_X_os,train_y_os)"
   ]
  },
  {
   "cell_type": "code",
   "execution_count": null,
   "id": "d7c374dc",
   "metadata": {},
   "outputs": [],
   "source": [
    "grid_3.best_estimator_"
   ]
  },
  {
   "cell_type": "code",
   "execution_count": null,
   "id": "70714eab",
   "metadata": {},
   "outputs": [],
   "source": [
    "res_df = pd.DataFrame(grid_3.cv_results_)\n",
    "pd.set_option('display.max_colwidth',100)\n",
    "res_df[['params','mean_test_score','rank_test_score']]"
   ]
  },
  {
   "cell_type": "code",
   "execution_count": null,
   "id": "0632d923",
   "metadata": {},
   "outputs": [],
   "source": [
    "new_model_3=grid_3.best_estimator_"
   ]
  },
  {
   "cell_type": "code",
   "execution_count": null,
   "id": "7be74e9d",
   "metadata": {},
   "outputs": [],
   "source": [
    "model_train_val_eval(train_X_os,val_X,train_y_os,val_y,new_model_3)"
   ]
  },
  {
   "cell_type": "code",
   "execution_count": null,
   "id": "580f3bbf",
   "metadata": {},
   "outputs": [],
   "source": [
    "sub['target'] = new_model_3.predict(test)\n",
    "sub.to_csv('sub_3.csv',index=False)"
   ]
  },
  {
   "cell_type": "code",
   "execution_count": null,
   "id": "d3e4f6ba",
   "metadata": {},
   "outputs": [],
   "source": [
    "joblib.dump(new_model_3,'jobchg_pipeline_model.pkl')\n"
   ]
  },
  {
   "cell_type": "code",
   "execution_count": 68,
   "id": "d7b6e97e",
   "metadata": {},
   "outputs": [
    {
     "name": "stdout",
     "output_type": "stream",
     "text": [
      "1.5.1\n"
     ]
    }
   ],
   "source": [
    "import sklearn\n",
    "print(sklearn.__version__)\n",
    "\n"
   ]
  },
  {
   "cell_type": "code",
   "execution_count": null,
   "id": "8d641f45-4b9c-4655-b12a-249f235c8384",
   "metadata": {},
   "outputs": [],
   "source": []
  }
 ],
 "metadata": {
  "kernelspec": {
   "display_name": "Python 3 (ipykernel)",
   "language": "python",
   "name": "python3"
  },
  "language_info": {
   "codemirror_mode": {
    "name": "ipython",
    "version": 3
   },
   "file_extension": ".py",
   "mimetype": "text/x-python",
   "name": "python",
   "nbconvert_exporter": "python",
   "pygments_lexer": "ipython3",
   "version": "3.12.7"
  }
 },
 "nbformat": 4,
 "nbformat_minor": 5
}
